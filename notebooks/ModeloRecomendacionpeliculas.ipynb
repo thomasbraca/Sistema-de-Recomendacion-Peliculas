{
 "cells": [
  {
   "cell_type": "code",
   "execution_count": 40,
   "metadata": {},
   "outputs": [],
   "source": [
    "import pandas as pd\n",
    "import numpy as np\n",
    "from sklearn.feature_extraction.text import CountVectorizer\n",
    "from sklearn.metrics.pairwise import cosine_similarity\n",
    "from sklearn.preprocessing import StandardScaler, OneHotEncoder"
   ]
  },
  {
   "cell_type": "code",
   "execution_count": 41,
   "metadata": {},
   "outputs": [],
   "source": [
    "#Cargamos los datos\n",
    "df =pd.read_parquet(\"../data/dataset.parquet\")\n",
    "\n",
    "#Solo vamos a utilizar algunas de las columnas del dataset\n",
    "df = df[['title','popularity','vote_average','vote_count','genres']]"
   ]
  },
  {
   "attachments": {},
   "cell_type": "markdown",
   "metadata": {},
   "source": [
    "Al ser el dataframe demasiado grande para realizar este modelo, lo reducimos solo tomando las peliculas con una popularidad mayor a 5 y una cantidad de votos mayor a 10"
   ]
  },
  {
   "cell_type": "code",
   "execution_count": 42,
   "metadata": {},
   "outputs": [],
   "source": [
    "# Definir un umbral de popularidad para filtrar las películas\n",
    "popularity_threshold = 5 \n",
    "\n",
    "\n",
    "# Filtrar el DataFrame basado en la popularidad\n",
    "df = df[df['popularity'] >= popularity_threshold].reset_index(drop=True)\n",
    "\n",
    "# Definir un umbral de cantidad de votos para filtrar las películas\n",
    "vote_count_threshold = 10\n",
    "\n",
    "\n",
    "# Filtrar el DataFrame basado en la cantidad de votos\n",
    "df = df[df['vote_count'] >= vote_count_threshold].reset_index(drop=True)"
   ]
  },
  {
   "attachments": {},
   "cell_type": "markdown",
   "metadata": {},
   "source": [
    "# Sistema de recomendacion"
   ]
  },
  {
   "cell_type": "code",
   "execution_count": 43,
   "metadata": {},
   "outputs": [],
   "source": [
    "# Preprocesamos generos\n",
    "def preprocess_genres(df):\n",
    "    genres = df['genres'].str.get_dummies(sep=' ')\n",
    "    return genres\n",
    "\n",
    "genres_encoded = preprocess_genres(df)"
   ]
  },
  {
   "cell_type": "code",
   "execution_count": 44,
   "metadata": {},
   "outputs": [],
   "source": [
    "\n",
    "# Normalizamos `popularity` y `vote_average`\n",
    "scaler = StandardScaler()\n",
    "scaled_features = scaler.fit_transform(df[['popularity', 'vote_average']])"
   ]
  },
  {
   "cell_type": "code",
   "execution_count": 45,
   "metadata": {},
   "outputs": [],
   "source": [
    "\n",
    "# Ajustamos el peso de los géneros para que sean mas importantes\n",
    "genres_weighted = genres_encoded * 2"
   ]
  },
  {
   "cell_type": "code",
   "execution_count": 46,
   "metadata": {},
   "outputs": [],
   "source": [
    "# Creamos una matriz de características combinando todas las características\n",
    "features = pd.concat([genres_weighted, pd.DataFrame(scaled_features, columns=['popularity', 'vote_average'])], axis=1)\n"
   ]
  },
  {
   "cell_type": "code",
   "execution_count": 47,
   "metadata": {},
   "outputs": [],
   "source": [
    "\n",
    "# Calculamos la similitud del coseno\n",
    "similarity_matrix = cosine_similarity(features)"
   ]
  },
  {
   "cell_type": "code",
   "execution_count": 48,
   "metadata": {},
   "outputs": [],
   "source": [
    "def get_recommendations(title, similarity_matrix, titles, top_n=5):\n",
    "    index = titles.index(title)\n",
    "    sim_scores = list(enumerate(similarity_matrix[index]))\n",
    "    sim_scores = sorted(sim_scores, key=lambda x: x[1], reverse=True)\n",
    "    sim_scores = sim_scores[1:top_n+1]  # Excluye la película misma\n",
    "    movie_indices = [i[0] for i in sim_scores]\n",
    "    return movie_indices"
   ]
  },
  {
   "cell_type": "code",
   "execution_count": 49,
   "metadata": {},
   "outputs": [],
   "source": [
    "# Creamos el DataFrame con las recomendaciones\n",
    "recommendations = []\n",
    "\n",
    "for title in df['title']:\n",
    "    recommended_indices = get_recommendations(title, similarity_matrix, df['title'].tolist())\n",
    "    recommended_titles = df['title'].iloc[recommended_indices].tolist()\n",
    "    recommendations.append([title] + recommended_titles)\n",
    "\n",
    "recommendations_df = pd.DataFrame(recommendations, columns=['title', 'rec1', 'rec2', 'rec3', 'rec4', 'rec5'])"
   ]
  },
  {
   "cell_type": "code",
   "execution_count": 50,
   "metadata": {},
   "outputs": [
    {
     "data": {
      "text/html": [
       "<div>\n",
       "<style scoped>\n",
       "    .dataframe tbody tr th:only-of-type {\n",
       "        vertical-align: middle;\n",
       "    }\n",
       "\n",
       "    .dataframe tbody tr th {\n",
       "        vertical-align: top;\n",
       "    }\n",
       "\n",
       "    .dataframe thead th {\n",
       "        text-align: right;\n",
       "    }\n",
       "</style>\n",
       "<table border=\"1\" class=\"dataframe\">\n",
       "  <thead>\n",
       "    <tr style=\"text-align: right;\">\n",
       "      <th></th>\n",
       "      <th>title</th>\n",
       "      <th>rec1</th>\n",
       "      <th>rec2</th>\n",
       "      <th>rec3</th>\n",
       "      <th>rec4</th>\n",
       "      <th>rec5</th>\n",
       "    </tr>\n",
       "  </thead>\n",
       "  <tbody>\n",
       "    <tr>\n",
       "      <th>0</th>\n",
       "      <td>Four Rooms</td>\n",
       "      <td>Police Academy</td>\n",
       "      <td>Project X</td>\n",
       "      <td>The Naked Gun 2½: The Smell of Fear</td>\n",
       "      <td>Horrible Bosses</td>\n",
       "      <td>Analyze This</td>\n",
       "    </tr>\n",
       "    <tr>\n",
       "      <th>1</th>\n",
       "      <td>Judgment Night</td>\n",
       "      <td>Point Blank</td>\n",
       "      <td>Nighthawks</td>\n",
       "      <td>Machine Gun Preacher</td>\n",
       "      <td>F/X</td>\n",
       "      <td>22 Bullets</td>\n",
       "    </tr>\n",
       "    <tr>\n",
       "      <th>2</th>\n",
       "      <td>Star Wars</td>\n",
       "      <td>Rogue One: A Star Wars Story</td>\n",
       "      <td>Guardians of the Galaxy</td>\n",
       "      <td>Avengers: Age of Ultron</td>\n",
       "      <td>The Hunger Games: Catching Fire</td>\n",
       "      <td>Pacific Rim</td>\n",
       "    </tr>\n",
       "    <tr>\n",
       "      <th>3</th>\n",
       "      <td>Finding Nemo</td>\n",
       "      <td>Despicable Me</td>\n",
       "      <td>Lilo &amp; Stitch</td>\n",
       "      <td>The Little Mermaid</td>\n",
       "      <td>Coraline</td>\n",
       "      <td>WALL·E</td>\n",
       "    </tr>\n",
       "    <tr>\n",
       "      <th>4</th>\n",
       "      <td>Forrest Gump</td>\n",
       "      <td>Dilwale Dulhania Le Jayenge</td>\n",
       "      <td>Life Is Beautiful</td>\n",
       "      <td>The Big Sick</td>\n",
       "      <td>Me Before You</td>\n",
       "      <td>Annie Hall</td>\n",
       "    </tr>\n",
       "    <tr>\n",
       "      <th>...</th>\n",
       "      <td>...</td>\n",
       "      <td>...</td>\n",
       "      <td>...</td>\n",
       "      <td>...</td>\n",
       "      <td>...</td>\n",
       "      <td>...</td>\n",
       "    </tr>\n",
       "    <tr>\n",
       "      <th>9053</th>\n",
       "      <td>Tour de Pharmacy</td>\n",
       "      <td>7 Days in Hell</td>\n",
       "      <td>Adventures in Babysitting</td>\n",
       "      <td>The Colour of Magic</td>\n",
       "      <td>Red Nose Day Actually</td>\n",
       "      <td>StarStruck</td>\n",
       "    </tr>\n",
       "    <tr>\n",
       "      <th>9054</th>\n",
       "      <td>Stasis</td>\n",
       "      <td>Snowmageddon</td>\n",
       "      <td>War of the Worlds 2: The Next Wave</td>\n",
       "      <td>U.F.O.</td>\n",
       "      <td>The 5th Wave</td>\n",
       "      <td>2012: Ice Age</td>\n",
       "    </tr>\n",
       "    <tr>\n",
       "      <th>9055</th>\n",
       "      <td>Security</td>\n",
       "      <td>Maze Runner: The Scorch Trials</td>\n",
       "      <td>John Wick</td>\n",
       "      <td>Baby Driver</td>\n",
       "      <td>Deadpool</td>\n",
       "      <td>Pirates of the Caribbean: Dead Men Tell No Tales</td>\n",
       "    </tr>\n",
       "    <tr>\n",
       "      <th>9056</th>\n",
       "      <td>S.W.A.T.: Under Siege</td>\n",
       "      <td>Mechanic: Resurrection</td>\n",
       "      <td>Rage</td>\n",
       "      <td>Exit Wounds</td>\n",
       "      <td>Open Windows</td>\n",
       "      <td>London Has Fallen</td>\n",
       "    </tr>\n",
       "    <tr>\n",
       "      <th>9057</th>\n",
       "      <td>The Saint</td>\n",
       "      <td>The Host</td>\n",
       "      <td>Moonraker</td>\n",
       "      <td>I Am Number Four</td>\n",
       "      <td>Predators</td>\n",
       "      <td>Star Trek: Nemesis</td>\n",
       "    </tr>\n",
       "  </tbody>\n",
       "</table>\n",
       "<p>9058 rows × 6 columns</p>\n",
       "</div>"
      ],
      "text/plain": [
       "                      title                            rec1  \\\n",
       "0                Four Rooms                  Police Academy   \n",
       "1            Judgment Night                     Point Blank   \n",
       "2                 Star Wars    Rogue One: A Star Wars Story   \n",
       "3              Finding Nemo                   Despicable Me   \n",
       "4              Forrest Gump     Dilwale Dulhania Le Jayenge   \n",
       "...                     ...                             ...   \n",
       "9053       Tour de Pharmacy                  7 Days in Hell   \n",
       "9054                 Stasis                    Snowmageddon   \n",
       "9055               Security  Maze Runner: The Scorch Trials   \n",
       "9056  S.W.A.T.: Under Siege          Mechanic: Resurrection   \n",
       "9057              The Saint                        The Host   \n",
       "\n",
       "                                    rec2                                 rec3  \\\n",
       "0                              Project X  The Naked Gun 2½: The Smell of Fear   \n",
       "1                             Nighthawks                 Machine Gun Preacher   \n",
       "2                Guardians of the Galaxy              Avengers: Age of Ultron   \n",
       "3                          Lilo & Stitch                   The Little Mermaid   \n",
       "4                      Life Is Beautiful                         The Big Sick   \n",
       "...                                  ...                                  ...   \n",
       "9053           Adventures in Babysitting                  The Colour of Magic   \n",
       "9054  War of the Worlds 2: The Next Wave                               U.F.O.   \n",
       "9055                           John Wick                          Baby Driver   \n",
       "9056                                Rage                          Exit Wounds   \n",
       "9057                           Moonraker                     I Am Number Four   \n",
       "\n",
       "                                 rec4  \\\n",
       "0                     Horrible Bosses   \n",
       "1                                 F/X   \n",
       "2     The Hunger Games: Catching Fire   \n",
       "3                            Coraline   \n",
       "4                       Me Before You   \n",
       "...                               ...   \n",
       "9053            Red Nose Day Actually   \n",
       "9054                     The 5th Wave   \n",
       "9055                         Deadpool   \n",
       "9056                     Open Windows   \n",
       "9057                        Predators   \n",
       "\n",
       "                                                  rec5  \n",
       "0                                         Analyze This  \n",
       "1                                           22 Bullets  \n",
       "2                                          Pacific Rim  \n",
       "3                                               WALL·E  \n",
       "4                                           Annie Hall  \n",
       "...                                                ...  \n",
       "9053                                        StarStruck  \n",
       "9054                                     2012: Ice Age  \n",
       "9055  Pirates of the Caribbean: Dead Men Tell No Tales  \n",
       "9056                                 London Has Fallen  \n",
       "9057                                Star Trek: Nemesis  \n",
       "\n",
       "[9058 rows x 6 columns]"
      ]
     },
     "execution_count": 50,
     "metadata": {},
     "output_type": "execute_result"
    }
   ],
   "source": [
    "recommendations_df"
   ]
  },
  {
   "cell_type": "code",
   "execution_count": 51,
   "metadata": {},
   "outputs": [],
   "source": [
    "#Creamos un archivo parquet con este nuevo dataset\n",
    "recommendations_df.to_parquet(\"../data/dataset_recomendaciones.parquet\",engine='fastparquet', compression='snappy')"
   ]
  }
 ],
 "metadata": {
  "kernelspec": {
   "display_name": "Python 3",
   "language": "python",
   "name": "python3"
  },
  "language_info": {
   "codemirror_mode": {
    "name": "ipython",
    "version": 3
   },
   "file_extension": ".py",
   "mimetype": "text/x-python",
   "name": "python",
   "nbconvert_exporter": "python",
   "pygments_lexer": "ipython3",
   "version": "3.10.11"
  },
  "orig_nbformat": 4,
  "vscode": {
   "interpreter": {
    "hash": "40ea231ce006ed65b013ba3e9b5a48267321b4d32b910ea3a649228a606377c3"
   }
  }
 },
 "nbformat": 4,
 "nbformat_minor": 2
}
